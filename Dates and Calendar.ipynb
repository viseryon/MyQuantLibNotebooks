{
 "cells": [
  {
   "cell_type": "markdown",
   "metadata": {},
   "source": [
    "- Dates\n",
    "- Periods\n",
    "- Calendar\n",
    "- Schedule\n",
    "- Interest Rates"
   ]
  },
  {
   "cell_type": "code",
   "execution_count": 55,
   "metadata": {},
   "outputs": [],
   "source": [
    "import QuantLib as ql\n",
    "import pandas as pd"
   ]
  },
  {
   "cell_type": "markdown",
   "metadata": {},
   "source": [
    "# Dates and Periods"
   ]
  },
  {
   "cell_type": "code",
   "execution_count": 56,
   "metadata": {},
   "outputs": [
    {
     "data": {
      "text/plain": [
       "Date(1,1,2020)"
      ]
     },
     "execution_count": 56,
     "metadata": {},
     "output_type": "execute_result"
    }
   ],
   "source": [
    "day, month, year = 1, 1, 2020\n",
    "date = ql.Date(day, month, year)\n",
    "date"
   ]
  },
  {
   "cell_type": "code",
   "execution_count": 57,
   "metadata": {},
   "outputs": [
    {
     "data": {
      "text/plain": [
       "['ISO',\n",
       " '_old___add__',\n",
       " '_old___sub__',\n",
       " 'dayOfMonth',\n",
       " 'dayOfYear',\n",
       " 'endOfMonth',\n",
       " 'fractionOfDay',\n",
       " 'fractionOfSecond',\n",
       " 'from_date',\n",
       " 'hours',\n",
       " 'isEndOfMonth',\n",
       " 'isLeap',\n",
       " 'localDateTime',\n",
       " 'maxDate',\n",
       " 'microseconds',\n",
       " 'milliseconds',\n",
       " 'minDate',\n",
       " 'minutes',\n",
       " 'month',\n",
       " 'nextWeekday',\n",
       " 'nthWeekday',\n",
       " 'seconds',\n",
       " 'serialNumber',\n",
       " 'this',\n",
       " 'thisown',\n",
       " 'to_date',\n",
       " 'todaysDate',\n",
       " 'universalDateTime',\n",
       " 'weekday',\n",
       " 'weekdayNumber',\n",
       " 'year']"
      ]
     },
     "execution_count": 57,
     "metadata": {},
     "output_type": "execute_result"
    }
   ],
   "source": [
    "[x for x in dir(date) if not x.startswith('__')]"
   ]
  },
  {
   "cell_type": "code",
   "execution_count": 58,
   "metadata": {},
   "outputs": [
    {
     "data": {
      "text/plain": [
       "Date(2,1,2020)"
      ]
     },
     "execution_count": 58,
     "metadata": {},
     "output_type": "execute_result"
    }
   ],
   "source": [
    "date + 1"
   ]
  },
  {
   "cell_type": "code",
   "execution_count": 59,
   "metadata": {},
   "outputs": [
    {
     "data": {
      "text/plain": [
       "Date(1,5,2020)"
      ]
     },
     "execution_count": 59,
     "metadata": {},
     "output_type": "execute_result"
    }
   ],
   "source": [
    "number_of_periods = 4\n",
    "period = ql.Months\n",
    "date + ql.Period(number_of_periods, period)"
   ]
  },
  {
   "cell_type": "markdown",
   "metadata": {},
   "source": [
    "One can also do logical operations using the `Date` object."
   ]
  },
  {
   "cell_type": "code",
   "execution_count": 60,
   "metadata": {},
   "outputs": [
    {
     "data": {
      "text/plain": [
       "(False, True, False, True)"
      ]
     },
     "execution_count": 60,
     "metadata": {},
     "output_type": "execute_result"
    }
   ],
   "source": [
    "date == ql.Date(31, 3, 2015), date > ql.Date(30, 3, 2015), date < ql.Date(1, 4, 2015), date != ql.Date(1, 4, 2015)"
   ]
  },
  {
   "cell_type": "markdown",
   "metadata": {},
   "source": [
    "# Calendar"
   ]
  },
  {
   "cell_type": "code",
   "execution_count": 61,
   "metadata": {},
   "outputs": [],
   "source": [
    "us_calendar = ql.UnitedStates(ql.UnitedStates.NYSE)\n",
    "pl_calendar = ql.Poland()"
   ]
  },
  {
   "cell_type": "code",
   "execution_count": 62,
   "metadata": {},
   "outputs": [
    {
     "data": {
      "text/plain": [
       "(Date(1,5,2020), Date(4,5,2020))"
      ]
     },
     "execution_count": 62,
     "metadata": {},
     "output_type": "execute_result"
    }
   ],
   "source": [
    "period_to_advance = ql.Period(number_of_periods, period)\n",
    "us_calendar.advance(date, period_to_advance), pl_calendar.advance(date, period_to_advance)"
   ]
  },
  {
   "cell_type": "code",
   "execution_count": 63,
   "metadata": {},
   "outputs": [
    {
     "data": {
      "text/plain": [
       "83"
      ]
     },
     "execution_count": 63,
     "metadata": {},
     "output_type": "execute_result"
    }
   ],
   "source": [
    "us_calendar.businessDaysBetween(date, us_calendar.advance(date, period_to_advance))"
   ]
  },
  {
   "cell_type": "code",
   "execution_count": 64,
   "metadata": {},
   "outputs": [
    {
     "data": {
      "text/plain": [
       "84"
      ]
     },
     "execution_count": 64,
     "metadata": {},
     "output_type": "execute_result"
    }
   ],
   "source": [
    "pl_calendar.businessDaysBetween(date, pl_calendar.advance(date, period_to_advance))"
   ]
  },
  {
   "cell_type": "markdown",
   "metadata": {},
   "source": [
    "## join calendars"
   ]
  },
  {
   "cell_type": "code",
   "execution_count": 65,
   "metadata": {},
   "outputs": [
    {
     "data": {
      "text/plain": [
       "81"
      ]
     },
     "execution_count": 65,
     "metadata": {},
     "output_type": "execute_result"
    }
   ],
   "source": [
    "joint_calendar = ql.JointCalendar(us_calendar, pl_calendar)\n",
    "joint_calendar.businessDaysBetween(date, joint_calendar.advance(date, period_to_advance))"
   ]
  },
  {
   "cell_type": "markdown",
   "metadata": {},
   "source": [
    "# Schedule"
   ]
  },
  {
   "cell_type": "markdown",
   "metadata": {},
   "source": [
    "The `Schedule` object is necessary in creating coupon schedules or call schedules. `Schedule` object constructors have the following signature:"
   ]
  },
  {
   "cell_type": "markdown",
   "metadata": {},
   "source": [
    "```\n",
    "Schedule(const Date& effectiveDate,\n",
    "         const Date& terminationDate,\n",
    "         const Period& tenor,\n",
    "         const Calendar& calendar,\n",
    "         BusinessDayConvention convention,\n",
    "         BusinessDayConvention terminationDateConvention,\n",
    "         DateGeneration::Rule rule,\n",
    "         bool endOfMonth,\n",
    "         const Date& firstDate = Date(),\n",
    "         const Date& nextToLastDate = Date())  \n",
    "```"
   ]
  },
  {
   "cell_type": "markdown",
   "metadata": {},
   "source": [
    "Schedule of:\n",
    "- 1Y\n",
    "- monthly (first business day of the month)\n",
    "- US Bonds"
   ]
  },
  {
   "cell_type": "markdown",
   "metadata": {},
   "source": [
    "`Schedule` object that will contain dates between `effective_date` and `termination_date` with the `tenor` specifying the `Period` to be `Monthly`. The `calendar` object is used for determining holidays. Here we have chosen the convention to be the day `following` holidays. That is why we see that holidays are excluded in the list of dates."
   ]
  },
  {
   "cell_type": "code",
   "execution_count": 67,
   "metadata": {},
   "outputs": [
    {
     "data": {
      "text/html": [
       "<div>\n",
       "<style scoped>\n",
       "    .dataframe tbody tr th:only-of-type {\n",
       "        vertical-align: middle;\n",
       "    }\n",
       "\n",
       "    .dataframe tbody tr th {\n",
       "        vertical-align: top;\n",
       "    }\n",
       "\n",
       "    .dataframe thead th {\n",
       "        text-align: right;\n",
       "    }\n",
       "</style>\n",
       "<table border=\"1\" class=\"dataframe\">\n",
       "  <thead>\n",
       "    <tr style=\"text-align: right;\">\n",
       "      <th></th>\n",
       "      <th>date</th>\n",
       "    </tr>\n",
       "  </thead>\n",
       "  <tbody>\n",
       "    <tr>\n",
       "      <th>0</th>\n",
       "      <td>January 2nd, 2020</td>\n",
       "    </tr>\n",
       "    <tr>\n",
       "      <th>1</th>\n",
       "      <td>February 3rd, 2020</td>\n",
       "    </tr>\n",
       "    <tr>\n",
       "      <th>2</th>\n",
       "      <td>March 2nd, 2020</td>\n",
       "    </tr>\n",
       "    <tr>\n",
       "      <th>3</th>\n",
       "      <td>April 1st, 2020</td>\n",
       "    </tr>\n",
       "    <tr>\n",
       "      <th>4</th>\n",
       "      <td>May 1st, 2020</td>\n",
       "    </tr>\n",
       "    <tr>\n",
       "      <th>5</th>\n",
       "      <td>June 1st, 2020</td>\n",
       "    </tr>\n",
       "    <tr>\n",
       "      <th>6</th>\n",
       "      <td>July 1st, 2020</td>\n",
       "    </tr>\n",
       "    <tr>\n",
       "      <th>7</th>\n",
       "      <td>August 3rd, 2020</td>\n",
       "    </tr>\n",
       "    <tr>\n",
       "      <th>8</th>\n",
       "      <td>September 1st, 2020</td>\n",
       "    </tr>\n",
       "    <tr>\n",
       "      <th>9</th>\n",
       "      <td>October 1st, 2020</td>\n",
       "    </tr>\n",
       "    <tr>\n",
       "      <th>10</th>\n",
       "      <td>November 2nd, 2020</td>\n",
       "    </tr>\n",
       "    <tr>\n",
       "      <th>11</th>\n",
       "      <td>December 1st, 2020</td>\n",
       "    </tr>\n",
       "    <tr>\n",
       "      <th>12</th>\n",
       "      <td>January 4th, 2021</td>\n",
       "    </tr>\n",
       "  </tbody>\n",
       "</table>\n",
       "</div>"
      ],
      "text/plain": [
       "                   date\n",
       "0     January 2nd, 2020\n",
       "1    February 3rd, 2020\n",
       "2       March 2nd, 2020\n",
       "3       April 1st, 2020\n",
       "4         May 1st, 2020\n",
       "5        June 1st, 2020\n",
       "6        July 1st, 2020\n",
       "7      August 3rd, 2020\n",
       "8   September 1st, 2020\n",
       "9     October 1st, 2020\n",
       "10   November 2nd, 2020\n",
       "11   December 1st, 2020\n",
       "12    January 4th, 2021"
      ]
     },
     "execution_count": 67,
     "metadata": {},
     "output_type": "execute_result"
    }
   ],
   "source": [
    "effective_date = ql.Date(1, 1, 2020)\n",
    "termination_date = ql.Date(1, 1, 2021)\n",
    "\n",
    "tenor = ql.Period(ql.Monthly)\n",
    "calendar = ql.UnitedStates(ql.UnitedStates.GovernmentBond)\n",
    "\n",
    "business_convention = ql.Following\n",
    "termination_business_convention = ql.Following\n",
    "\n",
    "date_generation = ql.DateGeneration.Forward\n",
    "end_of_month = False\n",
    "\n",
    "schedule = ql.Schedule(\n",
    "    effective_date,\n",
    "    termination_date,\n",
    "    tenor,\n",
    "    calendar,\n",
    "    business_convention,\n",
    "    termination_business_convention,\n",
    "    date_generation,\n",
    "    end_of_month\n",
    ")\n",
    "\n",
    "pd.DataFrame({'date': list(schedule)})"
   ]
  },
  {
   "cell_type": "markdown",
   "metadata": {},
   "source": [
    "The `Schedule` class can handle generation of dates with irregularity in schedule. The two extra parameters `firstDate` and `nextToLastDate` parameters along with a combination of forward or backward date generation rule can be used to generate short or long stub payments at the front or back end of the schedule. For example, the following combination of `firstDate` and `backward` generation rule creates a short stub in the front on the January 15, 2015."
   ]
  },
  {
   "cell_type": "code",
   "execution_count": 69,
   "metadata": {},
   "outputs": [
    {
     "data": {
      "text/html": [
       "<div>\n",
       "<style scoped>\n",
       "    .dataframe tbody tr th:only-of-type {\n",
       "        vertical-align: middle;\n",
       "    }\n",
       "\n",
       "    .dataframe tbody tr th {\n",
       "        vertical-align: top;\n",
       "    }\n",
       "\n",
       "    .dataframe thead th {\n",
       "        text-align: right;\n",
       "    }\n",
       "</style>\n",
       "<table border=\"1\" class=\"dataframe\">\n",
       "  <thead>\n",
       "    <tr style=\"text-align: right;\">\n",
       "      <th></th>\n",
       "      <th>date</th>\n",
       "    </tr>\n",
       "  </thead>\n",
       "  <tbody>\n",
       "    <tr>\n",
       "      <th>0</th>\n",
       "      <td>January 2nd, 2020</td>\n",
       "    </tr>\n",
       "    <tr>\n",
       "      <th>1</th>\n",
       "      <td>January 15th, 2020</td>\n",
       "    </tr>\n",
       "    <tr>\n",
       "      <th>2</th>\n",
       "      <td>February 3rd, 2020</td>\n",
       "    </tr>\n",
       "    <tr>\n",
       "      <th>3</th>\n",
       "      <td>March 2nd, 2020</td>\n",
       "    </tr>\n",
       "    <tr>\n",
       "      <th>4</th>\n",
       "      <td>April 1st, 2020</td>\n",
       "    </tr>\n",
       "    <tr>\n",
       "      <th>5</th>\n",
       "      <td>May 1st, 2020</td>\n",
       "    </tr>\n",
       "    <tr>\n",
       "      <th>6</th>\n",
       "      <td>June 1st, 2020</td>\n",
       "    </tr>\n",
       "    <tr>\n",
       "      <th>7</th>\n",
       "      <td>July 1st, 2020</td>\n",
       "    </tr>\n",
       "    <tr>\n",
       "      <th>8</th>\n",
       "      <td>August 3rd, 2020</td>\n",
       "    </tr>\n",
       "    <tr>\n",
       "      <th>9</th>\n",
       "      <td>September 1st, 2020</td>\n",
       "    </tr>\n",
       "    <tr>\n",
       "      <th>10</th>\n",
       "      <td>October 1st, 2020</td>\n",
       "    </tr>\n",
       "    <tr>\n",
       "      <th>11</th>\n",
       "      <td>November 2nd, 2020</td>\n",
       "    </tr>\n",
       "    <tr>\n",
       "      <th>12</th>\n",
       "      <td>December 1st, 2020</td>\n",
       "    </tr>\n",
       "    <tr>\n",
       "      <th>13</th>\n",
       "      <td>January 4th, 2021</td>\n",
       "    </tr>\n",
       "  </tbody>\n",
       "</table>\n",
       "</div>"
      ],
      "text/plain": [
       "                   date\n",
       "0     January 2nd, 2020\n",
       "1    January 15th, 2020\n",
       "2    February 3rd, 2020\n",
       "3       March 2nd, 2020\n",
       "4       April 1st, 2020\n",
       "5         May 1st, 2020\n",
       "6        June 1st, 2020\n",
       "7        July 1st, 2020\n",
       "8      August 3rd, 2020\n",
       "9   September 1st, 2020\n",
       "10    October 1st, 2020\n",
       "11   November 2nd, 2020\n",
       "12   December 1st, 2020\n",
       "13    January 4th, 2021"
      ]
     },
     "execution_count": 69,
     "metadata": {},
     "output_type": "execute_result"
    }
   ],
   "source": [
    "effective_date = ql.Date(1, 1, 2020)\n",
    "termination_date = ql.Date(1, 1, 2021)\n",
    "first_date = ql.Date(15, 1, 2020)\n",
    "schedule = ql.Schedule(\n",
    "    effective_date,\n",
    "    termination_date,\n",
    "    tenor,\n",
    "    calendar,\n",
    "    business_convention,\n",
    "    termination_business_convention,\n",
    "    ql.DateGeneration.Backward,\n",
    "    end_of_month,\n",
    "    first_date\n",
    ")\n",
    "\n",
    "pd.DataFrame({'date': list(schedule)})"
   ]
  },
  {
   "cell_type": "markdown",
   "metadata": {},
   "source": [
    "Using the `backward` generation rule along with the `firstDate` allows us to create a long stub in the front. Below the first two dates are longer in duration than the rest of the dates."
   ]
  },
  {
   "cell_type": "code",
   "execution_count": 71,
   "metadata": {},
   "outputs": [
    {
     "data": {
      "text/html": [
       "<div>\n",
       "<style scoped>\n",
       "    .dataframe tbody tr th:only-of-type {\n",
       "        vertical-align: middle;\n",
       "    }\n",
       "\n",
       "    .dataframe tbody tr th {\n",
       "        vertical-align: top;\n",
       "    }\n",
       "\n",
       "    .dataframe thead th {\n",
       "        text-align: right;\n",
       "    }\n",
       "</style>\n",
       "<table border=\"1\" class=\"dataframe\">\n",
       "  <thead>\n",
       "    <tr style=\"text-align: right;\">\n",
       "      <th></th>\n",
       "      <th>date</th>\n",
       "    </tr>\n",
       "  </thead>\n",
       "  <tbody>\n",
       "    <tr>\n",
       "      <th>0</th>\n",
       "      <td>December 15th, 2014</td>\n",
       "    </tr>\n",
       "    <tr>\n",
       "      <th>1</th>\n",
       "      <td>February 2nd, 2015</td>\n",
       "    </tr>\n",
       "    <tr>\n",
       "      <th>2</th>\n",
       "      <td>March 2nd, 2015</td>\n",
       "    </tr>\n",
       "    <tr>\n",
       "      <th>3</th>\n",
       "      <td>April 1st, 2015</td>\n",
       "    </tr>\n",
       "    <tr>\n",
       "      <th>4</th>\n",
       "      <td>May 1st, 2015</td>\n",
       "    </tr>\n",
       "    <tr>\n",
       "      <th>5</th>\n",
       "      <td>June 1st, 2015</td>\n",
       "    </tr>\n",
       "    <tr>\n",
       "      <th>6</th>\n",
       "      <td>July 1st, 2015</td>\n",
       "    </tr>\n",
       "    <tr>\n",
       "      <th>7</th>\n",
       "      <td>August 3rd, 2015</td>\n",
       "    </tr>\n",
       "    <tr>\n",
       "      <th>8</th>\n",
       "      <td>September 1st, 2015</td>\n",
       "    </tr>\n",
       "    <tr>\n",
       "      <th>9</th>\n",
       "      <td>October 1st, 2015</td>\n",
       "    </tr>\n",
       "    <tr>\n",
       "      <th>10</th>\n",
       "      <td>November 2nd, 2015</td>\n",
       "    </tr>\n",
       "    <tr>\n",
       "      <th>11</th>\n",
       "      <td>December 1st, 2015</td>\n",
       "    </tr>\n",
       "    <tr>\n",
       "      <th>12</th>\n",
       "      <td>January 4th, 2016</td>\n",
       "    </tr>\n",
       "  </tbody>\n",
       "</table>\n",
       "</div>"
      ],
      "text/plain": [
       "                   date\n",
       "0   December 15th, 2014\n",
       "1    February 2nd, 2015\n",
       "2       March 2nd, 2015\n",
       "3       April 1st, 2015\n",
       "4         May 1st, 2015\n",
       "5        June 1st, 2015\n",
       "6        July 1st, 2015\n",
       "7      August 3rd, 2015\n",
       "8   September 1st, 2015\n",
       "9     October 1st, 2015\n",
       "10   November 2nd, 2015\n",
       "11   December 1st, 2015\n",
       "12    January 4th, 2016"
      ]
     },
     "execution_count": 71,
     "metadata": {},
     "output_type": "execute_result"
    }
   ],
   "source": [
    "first_date = ql.Date(1, 2, 2015)\n",
    "effective_date = ql.Date(15, 12, 2014)\n",
    "termination_date = ql.Date(1, 1, 2016)\n",
    "schedule = ql.Schedule(\n",
    "    effective_date,\n",
    "    termination_date,\n",
    "    tenor,\n",
    "    calendar,\n",
    "    business_convention,\n",
    "    termination_business_convention,\n",
    "    ql.DateGeneration.Backward,\n",
    "    end_of_month, \n",
    "    first_date\n",
    ")\n",
    "\n",
    "pd.DataFrame({'date': list(schedule)})"
   ]
  },
  {
   "cell_type": "markdown",
   "metadata": {},
   "source": [
    "Below the Schedule is generated from a list of dates."
   ]
  },
  {
   "cell_type": "code",
   "execution_count": 72,
   "metadata": {},
   "outputs": [
    {
     "data": {
      "text/html": [
       "<div>\n",
       "<style scoped>\n",
       "    .dataframe tbody tr th:only-of-type {\n",
       "        vertical-align: middle;\n",
       "    }\n",
       "\n",
       "    .dataframe tbody tr th {\n",
       "        vertical-align: top;\n",
       "    }\n",
       "\n",
       "    .dataframe thead th {\n",
       "        text-align: right;\n",
       "    }\n",
       "</style>\n",
       "<table border=\"1\" class=\"dataframe\">\n",
       "  <thead>\n",
       "    <tr style=\"text-align: right;\">\n",
       "      <th></th>\n",
       "      <th>date</th>\n",
       "    </tr>\n",
       "  </thead>\n",
       "  <tbody>\n",
       "    <tr>\n",
       "      <th>0</th>\n",
       "      <td>January 2nd, 2015</td>\n",
       "    </tr>\n",
       "    <tr>\n",
       "      <th>1</th>\n",
       "      <td>February 2nd, 2015</td>\n",
       "    </tr>\n",
       "    <tr>\n",
       "      <th>2</th>\n",
       "      <td>March 2nd, 2015</td>\n",
       "    </tr>\n",
       "    <tr>\n",
       "      <th>3</th>\n",
       "      <td>April 1st, 2015</td>\n",
       "    </tr>\n",
       "    <tr>\n",
       "      <th>4</th>\n",
       "      <td>May 1st, 2015</td>\n",
       "    </tr>\n",
       "    <tr>\n",
       "      <th>5</th>\n",
       "      <td>June 1st, 2015</td>\n",
       "    </tr>\n",
       "    <tr>\n",
       "      <th>6</th>\n",
       "      <td>July 1st, 2015</td>\n",
       "    </tr>\n",
       "    <tr>\n",
       "      <th>7</th>\n",
       "      <td>August 3rd, 2015</td>\n",
       "    </tr>\n",
       "    <tr>\n",
       "      <th>8</th>\n",
       "      <td>September 1st, 2015</td>\n",
       "    </tr>\n",
       "    <tr>\n",
       "      <th>9</th>\n",
       "      <td>October 1st, 2015</td>\n",
       "    </tr>\n",
       "    <tr>\n",
       "      <th>10</th>\n",
       "      <td>November 2nd, 2015</td>\n",
       "    </tr>\n",
       "    <tr>\n",
       "      <th>11</th>\n",
       "      <td>December 1st, 2015</td>\n",
       "    </tr>\n",
       "    <tr>\n",
       "      <th>12</th>\n",
       "      <td>January 4th, 2016</td>\n",
       "    </tr>\n",
       "  </tbody>\n",
       "</table>\n",
       "</div>"
      ],
      "text/plain": [
       "                   date\n",
       "0     January 2nd, 2015\n",
       "1    February 2nd, 2015\n",
       "2       March 2nd, 2015\n",
       "3       April 1st, 2015\n",
       "4         May 1st, 2015\n",
       "5        June 1st, 2015\n",
       "6        July 1st, 2015\n",
       "7      August 3rd, 2015\n",
       "8   September 1st, 2015\n",
       "9     October 1st, 2015\n",
       "10   November 2nd, 2015\n",
       "11   December 1st, 2015\n",
       "12    January 4th, 2016"
      ]
     },
     "execution_count": 72,
     "metadata": {},
     "output_type": "execute_result"
    }
   ],
   "source": [
    "dates = [\n",
    "    ql.Date(2,1,2015), ql.Date(2, 2,2015),\n",
    "    ql.Date(2,3,2015), ql.Date(1,4,2015),\n",
    "    ql.Date(1,5,2015), ql.Date(1,6,2015),\n",
    "    ql.Date(1,7,2015), ql.Date(3,8,2015),\n",
    "    ql.Date(1,9,2015), ql.Date(1,10,2015),\n",
    "    ql.Date(2,11,2015), ql.Date(1,12,2015),\n",
    "    ql.Date(4,1,2016)\n",
    "]\n",
    "rolling_convention = ql.Following\n",
    "\n",
    "schedule = ql.Schedule(\n",
    "    dates, calendar,\n",
    "    rolling_convention\n",
    ")\n",
    "\n",
    "pd.DataFrame({'date': list(schedule)})"
   ]
  },
  {
   "cell_type": "markdown",
   "metadata": {},
   "source": [
    "# Interest Rate"
   ]
  },
  {
   "cell_type": "code",
   "execution_count": 81,
   "metadata": {},
   "outputs": [
    {
     "name": "stdout",
     "output_type": "stream",
     "text": [
      "2.000000 % Actual/Actual (ISDA) Annual compounding\n"
     ]
    }
   ],
   "source": [
    "annual_interest_rate = 0.02\n",
    "day_count_convention = ql.ActualActual(ql.ActualActual.ISDA)\n",
    "compound_type = ql.Compounded\n",
    "frequency = ql.Annual\n",
    "\n",
    "interest_rate = ql.InterestRate(\n",
    "    annual_interest_rate, \n",
    "    day_count_convention, \n",
    "    compound_type, \n",
    "    frequency\n",
    ")\n",
    "print(interest_rate)"
   ]
  },
  {
   "cell_type": "code",
   "execution_count": 83,
   "metadata": {},
   "outputs": [
    {
     "data": {
      "text/plain": [
       "(1.0404, 0.9611687812379854)"
      ]
     },
     "execution_count": 83,
     "metadata": {},
     "output_type": "execute_result"
    }
   ],
   "source": [
    "years_passed = 2\n",
    "interest_rate.compoundFactor(years_passed), interest_rate.discountFactor(years_passed)"
   ]
  },
  {
   "cell_type": "markdown",
   "metadata": {},
   "source": [
    "equivalent rate compounded quarterly"
   ]
  },
  {
   "cell_type": "code",
   "execution_count": 86,
   "metadata": {},
   "outputs": [
    {
     "name": "stdout",
     "output_type": "stream",
     "text": [
      "1.985173 % Actual/Actual (ISDA) Quarterly compounding\n"
     ]
    }
   ],
   "source": [
    "new_ir = interest_rate.equivalentRate(compound_type, ql.Quarterly, years_passed)\n",
    "print(new_ir)"
   ]
  }
 ],
 "metadata": {
  "kernelspec": {
   "display_name": "env",
   "language": "python",
   "name": "python3"
  },
  "language_info": {
   "codemirror_mode": {
    "name": "ipython",
    "version": 3
   },
   "file_extension": ".py",
   "mimetype": "text/x-python",
   "name": "python",
   "nbconvert_exporter": "python",
   "pygments_lexer": "ipython3",
   "version": "3.11.9"
  }
 },
 "nbformat": 4,
 "nbformat_minor": 2
}
