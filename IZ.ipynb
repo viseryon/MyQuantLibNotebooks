{
 "cells": [
  {
   "cell_type": "code",
   "execution_count": 72,
   "metadata": {},
   "outputs": [],
   "source": [
    "import QuantLib as ql\n",
    "from datetime import datetime as dt"
   ]
  },
  {
   "cell_type": "markdown",
   "metadata": {},
   "source": [
    "https://www.implementingquantlib.com/2024/05/inflation-curves.html"
   ]
  },
  {
   "cell_type": "markdown",
   "metadata": {},
   "source": [
    "## Assumptions"
   ]
  },
  {
   "cell_type": "markdown",
   "metadata": {},
   "source": [
    "### Date"
   ]
  },
  {
   "cell_type": "code",
   "execution_count": 73,
   "metadata": {},
   "outputs": [],
   "source": [
    "today = dt.today()\n",
    "today = ql.Date(today.day, today.month, today.year)\n",
    "ql.Settings.instance().evaluationDate = today\n",
    "\n",
    "calendar = ql.Poland()\n",
    "day_count = ql.ActualActual(ql.ActualActual.Bond)"
   ]
  },
  {
   "cell_type": "markdown",
   "metadata": {},
   "source": [
    "### Bond"
   ]
  },
  {
   "cell_type": "code",
   "execution_count": 74,
   "metadata": {},
   "outputs": [],
   "source": [
    "issue_date = ql.Date(25, 8, 2023)\n",
    "maturity_date = ql.Date(25, 8, 2036)\n",
    "settlement_days = 2\n",
    "face_value = 1000.0\n",
    "fixing_lag = ql.Period(3, ql.Months)\n",
    "fixing_frequency = ql.Monthly\n",
    "forecast_frequency = ql.Annual\n",
    "coupon_rate = 0.02"
   ]
  },
  {
   "cell_type": "markdown",
   "metadata": {},
   "source": [
    "## Inflation curve and index"
   ]
  },
  {
   "cell_type": "code",
   "execution_count": 75,
   "metadata": {},
   "outputs": [],
   "source": [
    "# forecasts of the inflation\n",
    "dates = [\n",
    "    ql.Date(1, 1, 2024),\n",
    "    ql.Date(1, 1, 2025),\n",
    "    ql.Date(1, 1, 2026),\n",
    "    ql.Date(1, 1, 2027),\n",
    "    ql.Date(1, 1, 2028),\n",
    "    ql.Date(1, 1, 2029),\n",
    "    ql.Date(1, 1, 2030),\n",
    "    ql.Date(1, 1, 2031),\n",
    "    ql.Date(1, 1, 2032),\n",
    "    ql.Date(1, 1, 2033),\n",
    "    ql.Date(1, 1, 2034),\n",
    "    ql.Date(1, 1, 2035),\n",
    "    ql.Date(1, 1, 2036),\n",
    "]\n",
    "\n",
    "rates = [0.037, 0.043, 0.029, 0.025, 0.025, 0.025, 0.025, 0.025, 0.025, 0.025, 0.025, 0.025, 0.025]\n",
    "\n",
    "inflation_curve_handle = ql.ZeroInflationTermStructureHandle(\n",
    "    ql.ZeroInflationCurve(today, calendar, day_count, fixing_lag, forecast_frequency, dates, rates)\n",
    ")\n",
    "\n",
    "# Define custom CPI index\n",
    "cpi_index = ql.ZeroInflationIndex(\n",
    "    \"CPI\", ql.CustomRegion('Poland', 'PL'), False, fixing_frequency, fixing_lag, ql.PLNCurrency(), inflation_curve_handle\n",
    ")"
   ]
  },
  {
   "cell_type": "code",
   "execution_count": 76,
   "metadata": {},
   "outputs": [],
   "source": [
    "historical_cpi_fixings = [\n",
    "    (ql.Date(1, 7,  2024),  0.014),\n",
    "    (ql.Date(1, 6,  2024),  0.001),\n",
    "    (ql.Date(1, 5,  2024),  0.001),\n",
    "    (ql.Date(1, 4,  2024),  0.011),\n",
    "    (ql.Date(1, 3,  2024),  0.002),\n",
    "    (ql.Date(1, 2,  2024),  0.003),\n",
    "    (ql.Date(1, 1,  2024),  0.004),\n",
    "    (ql.Date(1, 12, 2023),  0.001),\n",
    "    (ql.Date(1, 11, 2023),  0.007),\n",
    "    (ql.Date(1, 10, 2023),  0.003),\n",
    "    (ql.Date(1, 9,  2023), -0.004),\n",
    "    (ql.Date(1, 8,  2023),  0.000),\n",
    "    (ql.Date(1, 7,  2023), -0.002),\n",
    "    (ql.Date(1, 6,  2023),  0.000),\n",
    "    (ql.Date(1, 5,  2023),  0.000),\n",
    "    (ql.Date(1, 4,  2023),  0.007),\n",
    "    (ql.Date(1, 3,  2023),  0.011),\n",
    "    (ql.Date(1, 2,  2023),  0.012),\n",
    "    (ql.Date(1, 1,  2023),  0.024),\n",
    "]\n",
    "\n",
    "for date, rate in historical_cpi_fixings:\n",
    "    cpi_index.addFixing(date, rate)"
   ]
  },
  {
   "cell_type": "markdown",
   "metadata": {},
   "source": [
    "## Bond"
   ]
  },
  {
   "cell_type": "code",
   "execution_count": 77,
   "metadata": {},
   "outputs": [
    {
     "data": {
      "text/plain": [
       "(Date(25,8,2023),\n",
       " Date(25,8,2024),\n",
       " Date(25,8,2025),\n",
       " Date(25,8,2026),\n",
       " Date(25,8,2027),\n",
       " Date(25,8,2028),\n",
       " Date(25,8,2029),\n",
       " Date(25,8,2030),\n",
       " Date(25,8,2031),\n",
       " Date(25,8,2032),\n",
       " Date(25,8,2033),\n",
       " Date(25,8,2034),\n",
       " Date(25,8,2035),\n",
       " Date(25,8,2036))"
      ]
     },
     "execution_count": 77,
     "metadata": {},
     "output_type": "execute_result"
    }
   ],
   "source": [
    "# Define the inflation-linked bond\n",
    "schedule = ql.Schedule(\n",
    "    issue_date,\n",
    "    maturity_date,\n",
    "    ql.Period(ql.Annual),\n",
    "    calendar,\n",
    "    ql.Unadjusted,\n",
    "    ql.Unadjusted,\n",
    "    ql.DateGeneration.Forward,\n",
    "    False,\n",
    ")\n",
    "schedule.dates()"
   ]
  },
  {
   "cell_type": "code",
   "execution_count": 78,
   "metadata": {},
   "outputs": [],
   "source": [
    "growth_only = False\n",
    "interpolation = ql.CPI.Linear\n",
    "\n",
    "inflation_bond = ql.CPIBond(\n",
    "    settlement_days,\n",
    "    face_value,\n",
    "    growth_only,\n",
    "    cpi_index.fixing(today),  # base CPI\n",
    "    fixing_lag,\n",
    "    cpi_index,  # CPI index\n",
    "    interpolation,\n",
    "    schedule,  # schedule\n",
    "    [coupon_rate],  # fixed rates\n",
    "    day_count,  # day count convention\n",
    "    ql.Unadjusted,  # business day convention\n",
    "    issue_date,\n",
    "    calendar,\n",
    ")"
   ]
  },
  {
   "cell_type": "code",
   "execution_count": 79,
   "metadata": {},
   "outputs": [],
   "source": [
    "# Create the yield term structure based on fixed rate bonds\n",
    "yield_curve = [\n",
    "    (\"ON\", 0.05640, today + ql.Period(1, ql.Days)),\n",
    "    (\"PS1024\", 0.03768, ql.Date(25, 10, 2024)),\n",
    "    (\"PS0425\", 0.04049, ql.Date(25, 4,  2025)),\n",
    "    (\"DS0725\", 0.04412, ql.Date(25, 7,  2025)),\n",
    "    (\"DS0726\", 0.04691, ql.Date(25, 7,  2026)),\n",
    "    (\"PS1026\", 0.04756, ql.Date(25, 10, 2026)),\n",
    "    (\"PS0527\", 0.04778, ql.Date(25, 5,  2027)),\n",
    "    (\"DS0727\", 0.04771, ql.Date(25, 7,  2027)),\n",
    "    (\"WS0428\", 0.04780, ql.Date(25, 4,  2028)),\n",
    "    (\"PS0728\", 0.04837, ql.Date(25, 7,  2028)),\n",
    "    (\"WS0429\", 0.04871, ql.Date(25, 4,  2029)),\n",
    "    (\"PS0729\", 0.04946, ql.Date(25, 7,  2029)),\n",
    "    (\"DS1029\", 0.04854, ql.Date(25, 10, 2029)),\n",
    "    (\"DS1030\", 0.04927, ql.Date(25, 10, 2030)),\n",
    "    (\"DS0432\", 0.05001, ql.Date(25, 4,  2032)),\n",
    "    (\"DS1033\", 0.05046, ql.Date(25, 10, 2033)),\n",
    "    (\"DS1034\", 0.05105, ql.Date(25, 10, 2034)),\n",
    "    (\"WS0437\", 0.05187, ql.Date(25, 4,  2037)),\n",
    "    (\"WS0447\", 0.05225, ql.Date(25, 4,  2047)),\n",
    "]\n",
    "\n",
    "irs_curve = [\n",
    "    (\"ON\", 0.05640, today + ql.Period(1, ql.Days)),\n",
    "    (\"1Y\", 0.05515, today + ql.Period(1, ql.Years)),\n",
    "    (\"2Y\", 0.04870, today + ql.Period(2, ql.Years)),\n",
    "    (\"3Y\", 0.04497, today + ql.Period(3, ql.Years)),\n",
    "    (\"4Y\", 0.04354, today + ql.Period(4, ql.Years)),\n",
    "    (\"5Y\", 0.04300, today + ql.Period(5, ql.Years)),\n",
    "    (\"6Y\", 0.04284, today + ql.Period(6, ql.Years)),\n",
    "    (\"7Y\", 0.04294, today + ql.Period(7, ql.Years)),\n",
    "    (\"8Y\", 0.04318, today + ql.Period(8, ql.Years)),\n",
    "    (\"9Y\", 0.04343, today + ql.Period(9, ql.Years)),\n",
    "    (\"10Y\", 0.04370, today + ql.Period(10, ql.Years)),\n",
    "    (\"15Y\", 0.04529, today + ql.Period(15, ql.Years)),\n",
    "    (\"20Y\", 0.04675, today + ql.Period(20, ql.Years)),\n",
    "]\n",
    "\n",
    "curve = yield_curve\n",
    "\n",
    "interest_rate = ql.ForwardCurve(\n",
    "    [point[2] for point in curve], [point[1] for point in curve], day_count, calendar\n",
    ")\n",
    "\n",
    "yield_curve = ql.YieldTermStructureHandle(interest_rate)"
   ]
  },
  {
   "cell_type": "markdown",
   "metadata": {},
   "source": [
    "### Pricing"
   ]
  },
  {
   "cell_type": "code",
   "execution_count": 80,
   "metadata": {},
   "outputs": [
    {
     "name": "stdout",
     "output_type": "stream",
     "text": [
      "Clean Price: 94.22\n",
      "Dirty Price: 94.69\n",
      "Yield: 5.00%\n"
     ]
    }
   ],
   "source": [
    "# Set up a pricing engine\n",
    "bond_engine = ql.DiscountingBondEngine(yield_curve)\n",
    "inflation_bond.setPricingEngine(bond_engine)\n",
    "\n",
    "# Get the clean price\n",
    "clean_price = inflation_bond.cleanPrice()\n",
    "print(f\"Clean Price: {clean_price:.2f}\")\n",
    "\n",
    "# Get the dirty price\n",
    "dirty_price = inflation_bond.dirtyPrice()\n",
    "print(f\"Dirty Price: {dirty_price:.2f}\")\n",
    "\n",
    "# Get the yield\n",
    "bond_yield = inflation_bond.bondYield(day_count, ql.Compounded, ql.Annual)\n",
    "print(f\"Yield: {bond_yield:.2%}\")"
   ]
  },
  {
   "cell_type": "code",
   "execution_count": 81,
   "metadata": {},
   "outputs": [
    {
     "name": "stdout",
     "output_type": "stream",
     "text": [
      "Duration: 10.74\n",
      "Modified Duration: 10.23\n"
     ]
    }
   ],
   "source": [
    "rate = ql.InterestRate(bond_yield, day_count, ql.Compounded, ql.Annual)\n",
    "duration = ql.BondFunctions.duration(inflation_bond, rate, ql.Duration.Simple)\n",
    "print(f'Duration: {duration:.2f}')\n",
    "\n",
    "mduration = ql.BondFunctions.duration(inflation_bond, rate, ql.Duration.Modified)\n",
    "print(f'Modified Duration: {mduration:.2f}')"
   ]
  },
  {
   "cell_type": "markdown",
   "metadata": {},
   "source": [
    "## Other"
   ]
  },
  {
   "cell_type": "code",
   "execution_count": null,
   "metadata": {},
   "outputs": [],
   "source": []
  }
 ],
 "metadata": {
  "kernelspec": {
   "display_name": "env",
   "language": "python",
   "name": "python3"
  },
  "language_info": {
   "codemirror_mode": {
    "name": "ipython",
    "version": 3
   },
   "file_extension": ".py",
   "mimetype": "text/x-python",
   "name": "python",
   "nbconvert_exporter": "python",
   "pygments_lexer": "ipython3",
   "version": "3.11.4"
  }
 },
 "nbformat": 4,
 "nbformat_minor": 2
}
