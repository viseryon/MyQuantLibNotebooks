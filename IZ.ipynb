{
 "cells": [
  {
   "cell_type": "code",
   "execution_count": 96,
   "metadata": {},
   "outputs": [],
   "source": [
    "import QuantLib as ql\n",
    "from datetime import datetime as dt"
   ]
  },
  {
   "cell_type": "markdown",
   "metadata": {},
   "source": [
    "https://www.implementingquantlib.com/2024/05/inflation-curves.html"
   ]
  },
  {
   "cell_type": "markdown",
   "metadata": {},
   "source": [
    "## Assumptions"
   ]
  },
  {
   "cell_type": "markdown",
   "metadata": {},
   "source": [
    "### Date"
   ]
  },
  {
   "cell_type": "code",
   "execution_count": 97,
   "metadata": {},
   "outputs": [],
   "source": [
    "today = dt.today()\n",
    "today = ql.Date(today.day, today.month, today.year)\n",
    "ql.Settings.instance().evaluationDate = today\n",
    "\n",
    "calendar = ql.Poland()\n",
    "day_count = ql.ActualActual(ql.ActualActual.Bond)"
   ]
  },
  {
   "cell_type": "markdown",
   "metadata": {},
   "source": [
    "### Bond"
   ]
  },
  {
   "cell_type": "code",
   "execution_count": 98,
   "metadata": {},
   "outputs": [],
   "source": [
    "issue_date = ql.Date(25, 8, 2023)\n",
    "maturity_date = ql.Date(25, 8, 2036)\n",
    "settlement_days = 2\n",
    "face_value = 1000.0\n",
    "fixing_lag = ql.Period(3, ql.Months)\n",
    "fixing_frequency = ql.Monthly\n",
    "forecast_frequency = ql.Annual\n",
    "coupon_rate = 0.02"
   ]
  },
  {
   "cell_type": "markdown",
   "metadata": {},
   "source": [
    "## Inflation curve and index"
   ]
  },
  {
   "cell_type": "code",
   "execution_count": 99,
   "metadata": {},
   "outputs": [],
   "source": [
    "# forecasts of the inflation\n",
    "dates = [\n",
    "    ql.Date(1, 1, 2024),\n",
    "    ql.Date(1, 1, 2025),\n",
    "    ql.Date(1, 1, 2026),\n",
    "    ql.Date(1, 1, 2027),\n",
    "    ql.Date(1, 1, 2028),\n",
    "    ql.Date(1, 1, 2029),\n",
    "    ql.Date(1, 1, 2030),\n",
    "    ql.Date(1, 1, 2031),\n",
    "    ql.Date(1, 1, 2032),\n",
    "    ql.Date(1, 1, 2033),\n",
    "    ql.Date(1, 1, 2034),\n",
    "    ql.Date(1, 1, 2035),\n",
    "    ql.Date(1, 1, 2036),\n",
    "]\n",
    "rates = [0.02, 0.02, 0.02, 0.02, 0.02, 0.02, 0.02, 0.02, 0.02, 0.02, 0.02, 0.02, 0.02]\n",
    "\n",
    "inflation_curve_handle = ql.ZeroInflationTermStructureHandle(\n",
    "    ql.ZeroInflationCurve(today, calendar, day_count, fixing_lag, forecast_frequency, dates, rates)\n",
    ")\n",
    "\n",
    "# Define custom CPI index\n",
    "cpi_index = ql.ZeroInflationIndex(\n",
    "    \"CPI\", ql.CustomRegion('Poland', 'PL'), False, fixing_frequency, fixing_lag, ql.PLNCurrency(), inflation_curve_handle\n",
    ")"
   ]
  },
  {
   "cell_type": "code",
   "execution_count": 100,
   "metadata": {},
   "outputs": [],
   "source": [
    "historical_cpi_fixings = [\n",
    "    (ql.Date(1, 6, 2024), 0.001),\n",
    "    (ql.Date(1, 5, 2024), 0.001),\n",
    "    (ql.Date(1, 4, 2024), 0.011),\n",
    "    (ql.Date(1, 3, 2024), 0.002),\n",
    "    (ql.Date(1, 2, 2024), 0.003),\n",
    "    (ql.Date(1, 1, 2024), 0.004),\n",
    "    (ql.Date(1, 12, 2023), 0.001),\n",
    "    (ql.Date(1, 11, 2023), 0.007),\n",
    "    (ql.Date(1, 10, 2023), 0.003),\n",
    "    (ql.Date(1, 9, 2023), -0.004),\n",
    "    (ql.Date(1, 8, 2023), 0.000),\n",
    "    (ql.Date(1, 7, 2023), -0.002),\n",
    "    (ql.Date(1, 6, 2023), 0.000),\n",
    "    (ql.Date(1, 5, 2023), 0.000),\n",
    "    (ql.Date(1, 4, 2023), 0.007),\n",
    "    (ql.Date(1, 3, 2023), 0.011),\n",
    "    (ql.Date(1, 2, 2023), 0.012),\n",
    "    (ql.Date(1, 1, 2023), 0.024),\n",
    "]\n",
    "\n",
    "for date, rate in historical_cpi_fixings:\n",
    "    cpi_index.addFixing(date, rate)"
   ]
  },
  {
   "cell_type": "markdown",
   "metadata": {},
   "source": [
    "## Bond"
   ]
  },
  {
   "cell_type": "code",
   "execution_count": 101,
   "metadata": {},
   "outputs": [
    {
     "data": {
      "text/plain": [
       "(Date(25,8,2023),\n",
       " Date(25,8,2024),\n",
       " Date(25,8,2025),\n",
       " Date(25,8,2026),\n",
       " Date(25,8,2027),\n",
       " Date(25,8,2028),\n",
       " Date(25,8,2029),\n",
       " Date(25,8,2030),\n",
       " Date(25,8,2031),\n",
       " Date(25,8,2032),\n",
       " Date(25,8,2033),\n",
       " Date(25,8,2034),\n",
       " Date(25,8,2035),\n",
       " Date(25,8,2036))"
      ]
     },
     "execution_count": 101,
     "metadata": {},
     "output_type": "execute_result"
    }
   ],
   "source": [
    "# Define the inflation-linked bond\n",
    "issue_date = ql.Date(25, 8, 2023)\n",
    "maturity_date = ql.Date(25, 8, 2036)\n",
    "schedule = ql.Schedule(\n",
    "    issue_date,\n",
    "    maturity_date,\n",
    "    ql.Period(ql.Annual),\n",
    "    calendar,\n",
    "    ql.Unadjusted,\n",
    "    ql.Unadjusted,\n",
    "    ql.DateGeneration.Forward,\n",
    "    False,\n",
    ")\n",
    "schedule.dates()"
   ]
  },
  {
   "cell_type": "code",
   "execution_count": 102,
   "metadata": {},
   "outputs": [],
   "source": [
    "growth_only = False\n",
    "interpolation = ql.CPI.Linear\n",
    "\n",
    "inflation_bond = ql.CPIBond(\n",
    "    settlement_days,\n",
    "    face_value,\n",
    "    growth_only,\n",
    "    cpi_index.fixing(today),  # base CPI\n",
    "    fixing_lag,\n",
    "    cpi_index,  # CPI index\n",
    "    interpolation,\n",
    "    schedule,  # schedule\n",
    "    [coupon_rate],  # fixed rates\n",
    "    day_count,  # day count convention\n",
    "    ql.Unadjusted,  # business day convention\n",
    "    issue_date,\n",
    "    calendar,\n",
    ")"
   ]
  },
  {
   "cell_type": "code",
   "execution_count": 103,
   "metadata": {},
   "outputs": [],
   "source": [
    "# Create the yield term structure based on fixed rate bonds\n",
    "yield_curve = [\n",
    "    (\"ON\", 0.05740, today + ql.Period(1, ql.Days)),\n",
    "    (\"PS1024\", 0.03929, ql.Date(25, 10, 2024)),\n",
    "    (\"PS0425\", 0.04140, ql.Date(25, 4, 2025)),\n",
    "    (\"DS0725\", 0.04524, ql.Date(25, 7, 2025)),\n",
    "    (\"DS0726\", 0.04948, ql.Date(25, 7, 2026)),\n",
    "    (\"PS1026\", 0.05000, ql.Date(25, 10, 2026)),\n",
    "    (\"PS0527\", 0.05052, ql.Date(25, 5, 2027)),\n",
    "    (\"DS0727\", 0.05048, ql.Date(25, 7, 2027)),\n",
    "    (\"WS0428\", 0.05086, ql.Date(25, 4, 2028)),\n",
    "    (\"PS0728\", 0.05130, ql.Date(25, 7, 2028)),\n",
    "    (\"WS0429\", 0.05169, ql.Date(25, 4, 2029)),\n",
    "    (\"PS0729\", 0.05150, ql.Date(25, 7, 2029)),\n",
    "    (\"DS1029\", 0.05157, ql.Date(25, 10, 2029)),\n",
    "    (\"DS1030\", 0.05233, ql.Date(25, 10, 2030)),\n",
    "    (\"DS0432\", 0.05297, ql.Date(25, 4, 2032)),\n",
    "    (\"DS1033\", 0.05339, ql.Date(25, 10, 2033)),\n",
    "    (\"DS1034\", 0.05324, ql.Date(25, 10, 2034)),\n",
    "    (\"IZ0836\", 0.03168, ql.Date(25, 8, 2036)),\n",
    "    (\"WS0437\", 0.05408, ql.Date(25, 4, 2037)),\n",
    "    (\"WS0447\", 0.05438, ql.Date(25, 4, 2047)),\n",
    "]\n",
    "\n",
    "interest_rate = ql.ForwardCurve(\n",
    "    [point[2] for point in yield_curve], [point[1] for point in yield_curve], day_count, calendar\n",
    ")\n",
    "\n",
    "yield_curve = ql.YieldTermStructureHandle(interest_rate)"
   ]
  },
  {
   "cell_type": "markdown",
   "metadata": {},
   "source": [
    "### Pricing"
   ]
  },
  {
   "cell_type": "code",
   "execution_count": 104,
   "metadata": {},
   "outputs": [
    {
     "name": "stdout",
     "output_type": "stream",
     "text": [
      "Clean Price: 90.54\n",
      "Dirty Price: 91.01\n",
      "Yield: 4.95%\n",
      "NPV: 909.79\n"
     ]
    }
   ],
   "source": [
    "# Set up a pricing engine\n",
    "bond_engine = ql.DiscountingBondEngine(yield_curve)\n",
    "inflation_bond.setPricingEngine(bond_engine)\n",
    "\n",
    "# Get the clean price\n",
    "clean_price = inflation_bond.cleanPrice()\n",
    "print(f\"Clean Price: {clean_price:.2f}\")\n",
    "\n",
    "# Get the dirty price\n",
    "dirty_price = inflation_bond.dirtyPrice()\n",
    "print(f\"Dirty Price: {dirty_price:.2f}\")\n",
    "\n",
    "# Get the yield\n",
    "bond_yield = inflation_bond.bondYield(day_count, ql.Compounded, ql.Annual)\n",
    "print(f\"Yield: {bond_yield:.2%}\")\n",
    "\n",
    "# Get the NPV\n",
    "npv = inflation_bond.NPV()\n",
    "print(f\"NPV: {npv:.2f}\")"
   ]
  },
  {
   "cell_type": "code",
   "execution_count": 105,
   "metadata": {},
   "outputs": [
    {
     "name": "stdout",
     "output_type": "stream",
     "text": [
      "Duration: 10.71\n",
      "Modified Duration: 10.20\n"
     ]
    }
   ],
   "source": [
    "rate = ql.InterestRate(bond_yield, day_count, ql.Compounded, ql.Annual)\n",
    "duration = ql.BondFunctions.duration(inflation_bond, rate, ql.Duration.Simple)\n",
    "print(f'Duration: {duration:.2f}')\n",
    "\n",
    "mduration = ql.BondFunctions.duration(inflation_bond, rate, ql.Duration.Modified)\n",
    "print(f'Modified Duration: {mduration:.2f}')"
   ]
  },
  {
   "cell_type": "markdown",
   "metadata": {},
   "source": [
    "## Other"
   ]
  },
  {
   "cell_type": "code",
   "execution_count": 106,
   "metadata": {},
   "outputs": [],
   "source": [
    "import pandas as pd"
   ]
  },
  {
   "cell_type": "code",
   "execution_count": 107,
   "metadata": {},
   "outputs": [
    {
     "data": {
      "text/plain": [
       "[['2024-08-25', 4.942574651006425],\n",
       " ['2025-08-25', 20.325211694357122],\n",
       " ['2026-08-25', 20.731715928244267],\n",
       " ['2027-08-25', 21.146350246809153],\n",
       " ['2028-08-25', 21.569277251745337],\n",
       " ['2029-08-25', 22.00066279678025],\n",
       " ['2030-08-25', 22.44067605271585],\n",
       " ['2031-08-25', 22.889489573770163],\n",
       " ['2032-08-25', 23.347279365245573],\n",
       " ['2033-08-25', 23.81422495255049],\n",
       " ['2034-08-25', 24.29050945160149],\n",
       " ['2035-08-25', 24.77631964063352],\n",
       " ['2036-08-25', 25.2718460334462],\n",
       " ['2036-08-25', 1263.5923016723098]]"
      ]
     },
     "execution_count": 107,
     "metadata": {},
     "output_type": "execute_result"
    }
   ],
   "source": [
    "dates = [cf.date() for cf in inflation_bond.cashflows()]\n",
    "cfs = [[cf.date().ISO(), cf.amount()] for cf in inflation_bond.cashflows()]\n",
    "cfs"
   ]
  },
  {
   "cell_type": "code",
   "execution_count": 108,
   "metadata": {},
   "outputs": [],
   "source": [
    "df = pd.DataFrame(cfs)\n",
    "df['discount'] = [yield_curve.discount(date) for date in dates]\n",
    "\n",
    "df\n",
    "df.to_csv(\"dane.csv\", index=False, sep=\";\", decimal=\",\")"
   ]
  }
 ],
 "metadata": {
  "kernelspec": {
   "display_name": "env",
   "language": "python",
   "name": "python3"
  },
  "language_info": {
   "codemirror_mode": {
    "name": "ipython",
    "version": 3
   },
   "file_extension": ".py",
   "mimetype": "text/x-python",
   "name": "python",
   "nbconvert_exporter": "python",
   "pygments_lexer": "ipython3",
   "version": "3.11.9"
  }
 },
 "nbformat": 4,
 "nbformat_minor": 2
}
